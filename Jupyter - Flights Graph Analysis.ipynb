{
 "cells": [
  {
   "cell_type": "markdown",
   "id": "a7f91708-0224-493f-8865-c77aba618155",
   "metadata": {},
   "source": [
    "# Flight Connections and Airports Graph Analysis"
   ]
  },
  {
   "cell_type": "code",
   "execution_count": null,
   "id": "2bda1cdd-d172-478c-bc64-3e7f6c1b6335",
   "metadata": {},
   "outputs": [],
   "source": [
    "'''\n",
    "In this analysis, I am going to use graph analysis applied to a Big Data framework.\n",
    "I will use GraphFrames Spark library with the API for DataFrames (GraphFrames Spark library) \n",
    "to analyze a dataset containing information about flight connections and airports in the whole world.\n",
    "\n",
    "I am going to use datasets containing informations about airports, airlines and flights worldwide.\n",
    "Consider these three `csv` files:\n",
    "- airports.csv: contains one line for each airport in the world. Among the others, it provides the columns: \n",
    "id, name, city, country, iata, latitude and longitude.\n",
    "- airlines.csv: provides some information for each airline. Among the others, it provides the columns: \n",
    "airline_id, name, country, icao.\n",
    "- routes.csv enumerates the flights provided by each airline between two airports. it provides the columns:\n",
    "airline_id, airport_source_id, airport_destination_id.\n",
    "\n",
    "For this Analysis, I am going to use GraphFrames Spark library with the API for DataFrames \n",
    "(GraphFrames Spark library) \n",
    "'''"
   ]
  },
  {
   "cell_type": "code",
   "execution_count": null,
   "id": "f7092f27-cfaf-42f6-9cbe-6e2916c477d0",
   "metadata": {},
   "outputs": [],
   "source": [
    "# Input Datasets from the big data cluster"
   ]
  },
  {
   "cell_type": "code",
   "execution_count": 2,
   "id": "b223cb22-f500-43c5-a614-aafc9f221dd0",
   "metadata": {},
   "outputs": [],
   "source": [
    "airports = '/data/students/bigdata_internet/lab5/airports.csv'\n",
    "airlines = '/data/students/bigdata_internet/lab5/airlines.csv'\n",
    "flights = '/data/students/bigdata_internet/lab5/routes.csv'"
   ]
  },
  {
   "cell_type": "code",
   "execution_count": null,
   "id": "49ade866-58b3-424f-a091-30e0a158d3ac",
   "metadata": {},
   "outputs": [],
   "source": [
    "'''In this analysis, PySpark was utilized for its robust distributed computing capabilities, \n",
    "ideal for handling large datasets efficiently.\n",
    "If you're using the PySpark shell, no additional setup is necessary. \n",
    "However, for those working in a Python environment, setting up PySpark involves the following steps:\n",
    "1. Install PySpark: Begin by installing PySpark using pip:\n",
    "pip install pyspark\n",
    "2. Configure PySpark.sql: In your Python script or interactive session, include the following configuration \n",
    "to initialize PySpark.sql:\n",
    "```python\n",
    "from pyspark.sql import SparkSession\n",
    "spark = SparkSession.builder.getOrCreate()\n",
    "```\n",
    "Ensure to execute this configuration before performing any PySpark operations.\n",
    "For comprehensive installation and configuration instructions, refer to the official PySpark documentation: \n",
    "PySpark Installation Guide\n",
    "'''"
   ]
  },
  {
   "cell_type": "code",
   "execution_count": null,
   "id": "590c9a75-78c4-4ec3-a3ef-9d024f3fe7b6",
   "metadata": {},
   "outputs": [],
   "source": [
    "# Reading datasets"
   ]
  },
  {
   "cell_type": "code",
   "execution_count": 3,
   "id": "0faf9c21-2bf1-4e29-8a4d-7557b520d541",
   "metadata": {},
   "outputs": [
    {
     "name": "stderr",
     "output_type": "stream",
     "text": [
      "                                                                                \r"
     ]
    }
   ],
   "source": [
    "airportsDF = spark.read.load(airports, format=\"csv\", header=True, inferSchema=True, sep=',')\n",
    "airlinesDF = spark.read.load(airlines, format=\"csv\", header=True, inferSchema=True, sep=',')\n",
    "flightsDF = spark.read.load(flights, format=\"csv\", header=True, inferSchema=True, sep=',')"
   ]
  },
  {
   "cell_type": "code",
   "execution_count": null,
   "id": "fdc3c912-1be2-47da-8220-b3e67af66860",
   "metadata": {},
   "outputs": [],
   "source": [
    "# Find top airports and airlines"
   ]
  },
  {
   "cell_type": "code",
   "execution_count": null,
   "id": "7b57f88d-712a-4652-b564-4db3c7a4b6cb",
   "metadata": {},
   "outputs": [],
   "source": [
    "# Find countries with more than 200 airports"
   ]
  },
  {
   "cell_type": "code",
   "execution_count": 4,
   "id": "014211f4-f481-4795-a9e6-23633207c7c0",
   "metadata": {},
   "outputs": [],
   "source": [
    "numberOfAirports = airportsDF.groupBy(\"country\").agg({\"id\": \"count\"})\n",
    "airportsDF.createOrReplaceTempView(\"airportsDF\")"
   ]
  },
  {
   "cell_type": "code",
   "execution_count": 6,
   "id": "4d477c66-4815-489f-bf6d-f57110f0851d",
   "metadata": {},
   "outputs": [],
   "source": [
    "numberOfAirportsSorted = spark.sql('''SELECT country, count(iata) as number_of_airports FROM airportsDF\n",
    "                                        GROUP BY country Having count(iata) > 200 ORDER BY number_of_airports DESC''')"
   ]
  },
  {
   "cell_type": "code",
   "execution_count": 7,
   "id": "7432b4b1-cd0e-4af6-a71a-c1a0cf98a457",
   "metadata": {},
   "outputs": [
    {
     "name": "stderr",
     "output_type": "stream",
     "text": [
      "[Stage 7:=================================================>     (179 + 3) / 200]"
     ]
    },
    {
     "name": "stdout",
     "output_type": "stream",
     "text": [
      "+-------------+------------------+\n",
      "|      country|number_of_airports|\n",
      "+-------------+------------------+\n",
      "|United States|              1512|\n",
      "|       Canada|               430|\n",
      "|    Australia|               334|\n",
      "|       Russia|               264|\n",
      "|       Brazil|               264|\n",
      "|      Germany|               249|\n",
      "|        China|               241|\n",
      "|       France|               217|\n",
      "+-------------+------------------+\n",
      "\n"
     ]
    },
    {
     "name": "stderr",
     "output_type": "stream",
     "text": [
      "                                                                                \r"
     ]
    }
   ],
   "source": [
    "numberOfAirportsSorted.show()"
   ]
  },
  {
   "cell_type": "code",
   "execution_count": null,
   "id": "c26c711c-1ebb-41f7-bfc7-4cc11e7705e4",
   "metadata": {},
   "outputs": [],
   "source": [
    "# Find the top-10 airlines by total number of flights"
   ]
  },
  {
   "cell_type": "code",
   "execution_count": 5,
   "id": "682d5488-43b8-424d-afc9-65e35754370d",
   "metadata": {},
   "outputs": [],
   "source": [
    "numberOfFlights = flightsDF.groupBy(\"airline_id\").agg({\"airline_id\": \"count\"})\n",
    "numberOfFlights = numberOfFlights.withColumnRenamed(\"count(airline_id)\", \"num_flights\")\n",
    "joinedAirlineFlights = airlinesDF.join(numberOfFlights, airlinesDF.airline_id == numberOfFlights.airline_id)\n",
    "icaoAirline = joinedAirlineFlights.selectExpr(\"name\", \"icao\", \"num_flights\")\n",
    "icaoAirlineOrdered = icaoAirline.sort(\"num_flights\", ascending=False)\n",
    "icaoAirlineOrderedFinal = icaoAirlineOrdered.limit(10).sort(\"num_flights\", ascending=True)"
   ]
  },
  {
   "cell_type": "code",
   "execution_count": 153,
   "id": "c422f731-4568-4a42-9e76-e701ff223a41",
   "metadata": {},
   "outputs": [
    {
     "name": "stderr",
     "output_type": "stream",
     "text": [
      "[Stage 351:====================================================>(199 + 1) / 200]"
     ]
    },
    {
     "name": "stdout",
     "output_type": "stream",
     "text": [
      "+-----------------------+----+-----------+\n",
      "|name                   |icao|num_flights|\n",
      "+-----------------------+----+-----------+\n",
      "|easyJet                |EZY |1130       |\n",
      "|Southwest Airlines     |SWA |1146       |\n",
      "|Air China              |CCA |1260       |\n",
      "|China Eastern Airlines |CES |1263       |\n",
      "|China Southern Airlines|CSN |1454       |\n",
      "|US Airways             |USA |1960       |\n",
      "|Delta Air Lines        |DAL |1981       |\n",
      "|United Airlines        |UAL |2180       |\n",
      "|American Airlines      |AAL |2354       |\n",
      "|Ryanair                |RYR |2484       |\n",
      "+-----------------------+----+-----------+\n",
      "\n"
     ]
    },
    {
     "name": "stderr",
     "output_type": "stream",
     "text": [
      "                                                                                \r"
     ]
    }
   ],
   "source": [
    "icaoAirlineOrderedFinal.show(truncate=False)"
   ]
  },
  {
   "cell_type": "code",
   "execution_count": null,
   "id": "76053e3e-16e1-4639-b2a6-a110a7959f01",
   "metadata": {},
   "outputs": [],
   "source": [
    "# Find the top-5 routes in the world"
   ]
  },
  {
   "cell_type": "code",
   "execution_count": 6,
   "id": "2840c22c-7452-407c-87af-7102ed915bc8",
   "metadata": {},
   "outputs": [],
   "source": [
    "groupedFlights = flightsDF.groupBy(\"airport_source_id\", \"airport_destination_id\").agg({\"airport_source_id\": \"count\"})"
   ]
  },
  {
   "cell_type": "code",
   "execution_count": 7,
   "id": "48db1066-2d0e-4702-87c8-8ab091610e68",
   "metadata": {},
   "outputs": [],
   "source": [
    "groupedFlightsOrdere = groupedFlights.sort(\"count(airport_source_id)\", ascending=False)"
   ]
  },
  {
   "cell_type": "code",
   "execution_count": 156,
   "id": "ef3c0aa6-09e5-42d6-86aa-e571647d93d6",
   "metadata": {},
   "outputs": [
    {
     "name": "stderr",
     "output_type": "stream",
     "text": [
      "                                                                                \r"
     ]
    },
    {
     "data": {
      "text/plain": [
       "37505"
      ]
     },
     "execution_count": 156,
     "metadata": {},
     "output_type": "execute_result"
    }
   ],
   "source": [
    "groupedFlightsOrdere.count()"
   ]
  },
  {
   "cell_type": "code",
   "execution_count": 8,
   "id": "cf2e9bc0-59bf-43a3-b622-cc8bf24efcda",
   "metadata": {},
   "outputs": [],
   "source": [
    "from pyspark.sql.functions import col\n",
    "joined1 = groupedFlightsOrdere.join(airportsDF, groupedFlightsOrdere.airport_source_id == airportsDF.id).select(col(\"airport_source_id\"), \n",
    "        col(\"airport_destination_id\"), col(\"count(airport_source_id)\").alias(\"route_count\"), col(\"name\").alias(\"source_airport\"), \n",
    "        col(\"city\").alias(\"source_city\"))"
   ]
  },
  {
   "cell_type": "code",
   "execution_count": 9,
   "id": "b9ab17be-5fd2-47ac-a7f2-0a35979e04d7",
   "metadata": {},
   "outputs": [],
   "source": [
    "joined2 = joined1.join(airportsDF, joined1.airport_destination_id == airportsDF.id).select(\n",
    "    col(\"source_airport\"), col(\"source_city\"), col(\"name\").alias(\"destination_airport\"), col(\"city\").alias(\"destination_city\"), col(\"route_count\"))"
   ]
  },
  {
   "cell_type": "code",
   "execution_count": 10,
   "id": "7be4b51d-e92d-4358-9503-0fedc92c531f",
   "metadata": {},
   "outputs": [],
   "source": [
    "routes = joined1.join(airportsDF, joined1.airport_destination_id == airportsDF.id).select(col(\"airport_source_id\"), col(\"airport_destination_id\"))"
   ]
  },
  {
   "cell_type": "code",
   "execution_count": 11,
   "id": "2c0fb1fb-354f-491a-881b-2bb7506e029f",
   "metadata": {},
   "outputs": [],
   "source": [
    "routesName = joined2.sort(\"route_count\", ascending=False)"
   ]
  },
  {
   "cell_type": "code",
   "execution_count": 41,
   "id": "a1c98255-6133-4747-a46e-c226a50155f6",
   "metadata": {},
   "outputs": [
    {
     "name": "stderr",
     "output_type": "stream",
     "text": [
      "[Stage 53:===================================================>      (8 + 1) / 9]"
     ]
    },
    {
     "name": "stdout",
     "output_type": "stream",
     "text": [
      "+------------------------------------------------+-----------+-------------------------------------------------+----------------+-----------+\n",
      "|source_airport                                  |source_city|destination_airport                              |destination_city|route_count|\n",
      "+------------------------------------------------+-----------+-------------------------------------------------+----------------+-----------+\n",
      "|Chicago O'Hare International Airport            |Chicago    |Hartsfield Jackson Atlanta International Airport |Atlanta         |20         |\n",
      "|Hartsfield Jackson Atlanta International Airport|Atlanta    |Chicago O'Hare International Airport             |Chicago         |19         |\n",
      "|Phuket International Airport                    |Phuket     |Suvarnabhumi Airport                             |Bangkok         |13         |\n",
      "|Chicago O'Hare International Airport            |Chicago    |Louis Armstrong New Orleans International Airport|New Orleans     |13         |\n",
      "|Hartsfield Jackson Atlanta International Airport|Atlanta    |Miami International Airport                      |Miami           |12         |\n",
      "+------------------------------------------------+-----------+-------------------------------------------------+----------------+-----------+\n",
      "only showing top 5 rows\n",
      "\n"
     ]
    },
    {
     "name": "stderr",
     "output_type": "stream",
     "text": [
      "                                                                                \r"
     ]
    }
   ],
   "source": [
    "routesName.show(5, truncate=False)"
   ]
  },
  {
   "cell_type": "markdown",
   "id": "283310db-3351-4bb9-8ae2-bc924bf2cc42",
   "metadata": {},
   "source": [
    "-------------------------------------------------------------------------------------------"
   ]
  },
  {
   "cell_type": "code",
   "execution_count": null,
   "id": "91a5b81d-01cf-434f-a789-eb78fae31e84",
   "metadata": {},
   "outputs": [],
   "source": [
    "# Create the graph of flight connections\n",
    "# Build a graph using GraphFrames where vertices are the airports in airports.csv,\n",
    "# and edges are the flights from one airport to another contained in routes.csv "
   ]
  },
  {
   "cell_type": "code",
   "execution_count": null,
   "id": "90caa217-6035-4631-a046-a5dc2a941cd6",
   "metadata": {},
   "outputs": [],
   "source": [
    "# Cleaning the flights (routes) by removing missing values"
   ]
  },
  {
   "cell_type": "code",
   "execution_count": 142,
   "id": "dbdd30ed-6bce-4f27-a8c8-2f12d485bbbf",
   "metadata": {},
   "outputs": [
    {
     "name": "stderr",
     "output_type": "stream",
     "text": [
      "                                                                                \r"
     ]
    },
    {
     "data": {
      "text/plain": [
       "67663"
      ]
     },
     "execution_count": 142,
     "metadata": {},
     "output_type": "execute_result"
    }
   ],
   "source": [
    "flightsDF.count()"
   ]
  },
  {
   "cell_type": "code",
   "execution_count": 10,
   "id": "c3a3af18-9037-4fb4-9f74-dc1e96987466",
   "metadata": {},
   "outputs": [],
   "source": [
    "flightsClean = flightsDF.filter((flightsDF[\"airport_source_id\"] != \"\\\\N\") & (flightsDF[\"airport_destination_id\"] != \"\\\\N\"))"
   ]
  },
  {
   "cell_type": "code",
   "execution_count": 18,
   "id": "f28641f4-5270-4bc4-9050-a8ef11dc960d",
   "metadata": {},
   "outputs": [
    {
     "name": "stderr",
     "output_type": "stream",
     "text": [
      "                                                                                \r"
     ]
    },
    {
     "data": {
      "text/plain": [
       "67240"
      ]
     },
     "execution_count": 18,
     "metadata": {},
     "output_type": "execute_result"
    }
   ],
   "source": [
    "flightsClean.count()"
   ]
  },
  {
   "cell_type": "code",
   "execution_count": null,
   "id": "d9ce168b-f775-4b0e-bd80-780c00d9cf0d",
   "metadata": {},
   "outputs": [],
   "source": [
    "from graphframes import GraphFrame"
   ]
  },
  {
   "cell_type": "code",
   "execution_count": null,
   "id": "622e0511-1c47-4231-9e9d-da922455aead",
   "metadata": {},
   "outputs": [],
   "source": [
    "v = airportsDF.select(\"id\", \"name\", \"icao\", \"city\", \"country\")\n",
    "v = v.withColumn(\"id\", v.id.cast(\"string\"))"
   ]
  },
  {
   "cell_type": "code",
   "execution_count": null,
   "id": "d084e420-26a2-49cd-9403-fe1030aa95b2",
   "metadata": {},
   "outputs": [],
   "source": [
    "e = flightsClean.selectExpr(\"airport_source_id as src\", \"airport_destination_id as dst\", \"airline_id\")\n",
    "e = e.withColumn(\"src\", e.src.cast(\"string\"))\n",
    "e = e.withColumn(\"dst\", e.dst.cast(\"string\"))"
   ]
  },
  {
   "cell_type": "code",
   "execution_count": null,
   "id": "2be556d8-1a79-4975-9d38-30893e893ffa",
   "metadata": {},
   "outputs": [],
   "source": [
    "g = GraphFrame(v, e)"
   ]
  },
  {
   "cell_type": "markdown",
   "id": "d293143c-19c5-447c-97b3-a6bb6f9601f4",
   "metadata": {},
   "source": [
    "-------------------------------------------------------------------------------------------"
   ]
  },
  {
   "cell_type": "code",
   "execution_count": null,
   "id": "cfa5fbeb-e0ef-4a22-b06c-f87c9c65248d",
   "metadata": {},
   "outputs": [],
   "source": [
    "# Find the 5 airports with the highest ratio of outgoing edges over incoming edges (edgeOut/edgeIn)"
   ]
  },
  {
   "cell_type": "code",
   "execution_count": null,
   "id": "ebf3b0ca-02be-4720-bf2d-9b49ea715e4c",
   "metadata": {},
   "outputs": [],
   "source": [
    "outgoing = g.outDegrees\n",
    "incoming = g.inDegrees"
   ]
  },
  {
   "cell_type": "code",
   "execution_count": null,
   "id": "0d47d38e-e574-49ad-974d-757732f60cdd",
   "metadata": {},
   "outputs": [],
   "source": [
    "outgoing_incoming = outgoing.join(incoming, outgoing.id == incoming.id).select(\n",
    "    outgoing[\"id\"], incoming[\"inDegree\"], outgoing[\"outDegree\"], (outgoing[\"outDegree\"] / incoming[\"inDegree\"]).alias(\"ratio\"))"
   ]
  },
  {
   "cell_type": "code",
   "execution_count": null,
   "id": "1412a7ed-9566-4709-9508-9a52e1d684f4",
   "metadata": {},
   "outputs": [],
   "source": [
    "outgoing_incoming_final = outgoing_incoming.join(airportsDF, outgoing_incoming.id == airportsDF.id).select(\n",
    "    airportsDF[\"name\"], outgoing_incoming[\"id\"], outgoing_incoming[\"inDegree\"], outgoing_incoming[\"outDegree\"], outgoing_incoming[\"ratio\"])"
   ]
  },
  {
   "cell_type": "code",
   "execution_count": 156,
   "id": "c254deae-3be5-4d68-bdaf-31faf4c0097a",
   "metadata": {},
   "outputs": [
    {
     "name": "stderr",
     "output_type": "stream",
     "text": [
      "[Stage 493:===========================================>         (163 + 1) / 200]"
     ]
    },
    {
     "name": "stdout",
     "output_type": "stream",
     "text": [
      "+----------------------------------------------+----+--------+---------+-----+\n",
      "|name                                          |id  |inDegree|outDegree|ratio|\n",
      "+----------------------------------------------+----+--------+---------+-----+\n",
      "|Bunia Airport                                 |1033|1       |3        |3.0  |\n",
      "|Pikangikum Airport                            |5521|2       |5        |2.5  |\n",
      "|Transilvania Târgu Mureş International Airport|1662|2       |5        |2.5  |\n",
      "|Bahir Dar Airport                             |1111|1       |2        |2.0  |\n",
      "|Ivalo Airport                                 |428 |1       |2        |2.0  |\n",
      "+----------------------------------------------+----+--------+---------+-----+\n",
      "only showing top 5 rows\n",
      "\n"
     ]
    },
    {
     "name": "stderr",
     "output_type": "stream",
     "text": [
      "                                                                                \r"
     ]
    }
   ],
   "source": [
    "outgoing_incoming_final.sort(\"ratio\", ascending=False).show(5, truncate=False)"
   ]
  },
  {
   "cell_type": "markdown",
   "id": "0a128e52-455e-4bf4-9f3f-684b6fe9688f",
   "metadata": {},
   "source": [
    "-------------------------------------------------------------------------------------------"
   ]
  },
  {
   "cell_type": "code",
   "execution_count": null,
   "id": "9faee23c-4550-4d2b-8690-03e43ac4b5e3",
   "metadata": {},
   "outputs": [],
   "source": [
    "# Finding the number of airports that from there we can reach the city of \"Torino\" taking exactly 1 flight"
   ]
  },
  {
   "cell_type": "code",
   "execution_count": null,
   "id": "05ba5b13-b516-4be3-aa06-5944ffaf10c5",
   "metadata": {},
   "outputs": [],
   "source": [
    "# Finding the id of 'Turin Airport'"
   ]
  },
  {
   "cell_type": "code",
   "execution_count": 27,
   "id": "5ae25245-b922-44af-be43-097418b08cc5",
   "metadata": {},
   "outputs": [],
   "source": [
    "idTurin = outgoing_incoming_final.filter(\"name = 'Turin Airport'\")"
   ]
  },
  {
   "cell_type": "code",
   "execution_count": 8,
   "id": "9d5a4aa5-e751-4b62-8bab-3a528ce40b44",
   "metadata": {},
   "outputs": [],
   "source": [
    "idTurin.show(1)"
   ]
  },
  {
   "cell_type": "code",
   "execution_count": null,
   "id": "1f06131e-644c-4d5e-bb29-2b4b49a09035",
   "metadata": {},
   "outputs": [],
   "source": [
    "# Create the motif"
   ]
  },
  {
   "cell_type": "code",
   "execution_count": 159,
   "id": "3e02b1db-125b-481d-99b1-cc4df3115884",
   "metadata": {},
   "outputs": [],
   "source": [
    "motifs = g.find(\"(a)-[]->(b)\")"
   ]
  },
  {
   "cell_type": "code",
   "execution_count": null,
   "id": "a63808e1-1db5-483e-b1fb-c461883c9658",
   "metadata": {},
   "outputs": [],
   "source": [
    "# filter all destination with 'Turin Airport' id"
   ]
  },
  {
   "cell_type": "code",
   "execution_count": 160,
   "id": "56c205ea-fe5e-49ac-889f-665692430c8a",
   "metadata": {},
   "outputs": [],
   "source": [
    "airportsToTurin = motifs.filter(\"b.id = 1526\")"
   ]
  },
  {
   "cell_type": "code",
   "execution_count": 162,
   "id": "f3a59b5c-dd21-4f21-b4d5-c4427d3071f6",
   "metadata": {},
   "outputs": [
    {
     "name": "stderr",
     "output_type": "stream",
     "text": [
      "                                                                                \r"
     ]
    },
    {
     "data": {
      "text/plain": [
       "29"
      ]
     },
     "execution_count": 162,
     "metadata": {},
     "output_type": "execute_result"
    }
   ],
   "source": [
    "airportsToTurin.select(\"a\").distinct().count()"
   ]
  },
  {
   "cell_type": "markdown",
   "id": "e25d34c1-a34a-445b-82be-d74c9b3d417e",
   "metadata": {},
   "source": [
    "-------------------------------------------------------------------------------------------"
   ]
  },
  {
   "cell_type": "code",
   "execution_count": null,
   "id": "772d8882-272f-4f0a-88bb-09f05326215c",
   "metadata": {},
   "outputs": [],
   "source": [
    "# Find the number of airports that can be reached from the city of \"Torino\" taking exactly 1 flight"
   ]
  },
  {
   "cell_type": "code",
   "execution_count": 163,
   "id": "cb7fff49-a795-4991-9c96-cddff269a4df",
   "metadata": {},
   "outputs": [],
   "source": [
    "airportsFromTurin = motifs.filter(\"a.id = 1526\")"
   ]
  },
  {
   "cell_type": "code",
   "execution_count": 165,
   "id": "39e73033-98cd-4425-90f0-87b1be86c290",
   "metadata": {},
   "outputs": [
    {
     "name": "stderr",
     "output_type": "stream",
     "text": [
      "                                                                                \r"
     ]
    },
    {
     "data": {
      "text/plain": [
       "29"
      ]
     },
     "execution_count": 165,
     "metadata": {},
     "output_type": "execute_result"
    }
   ],
   "source": [
    "airportsFromTurin.select(\"b\").distinct().count()"
   ]
  },
  {
   "cell_type": "code",
   "execution_count": null,
   "id": "017fcad9-8f0f-4113-b333-f31d194a6dcf",
   "metadata": {},
   "outputs": [],
   "source": [
    "'''\n",
    "In the analysis of Turin Airport's network connectivity, both inDegrees and outDegrees are observed to be 29. \n",
    "This symmetry implies a balanced exchange of flights – for each departing flight, there is a corresponding \n",
    "incoming flight. The equal values of inDegrees and outDegrees indicate a reciprocity in the airport's connectivity,\n",
    "highlighting a comprehensive and evenly distributed network.\n",
    "'''"
   ]
  },
  {
   "cell_type": "markdown",
   "id": "3c2351d8-f976-4fa1-b203-1e36e92720ae",
   "metadata": {},
   "source": [
    "-------------------------------------------------------------------------------------------"
   ]
  },
  {
   "cell_type": "code",
   "execution_count": null,
   "id": "57d6641b-8ea6-4b91-b6a0-ed4332617a72",
   "metadata": {},
   "outputs": [],
   "source": [
    "# Find the number of airports that can be reached from the city of \"Torino\" taking exactly 2 flights"
   ]
  },
  {
   "cell_type": "code",
   "execution_count": null,
   "id": "89d38d6d-d9d3-4ab5-966b-52c106235095",
   "metadata": {},
   "outputs": [],
   "source": [
    "# Create the motif"
   ]
  },
  {
   "cell_type": "code",
   "execution_count": 166,
   "id": "d40890dc-7a17-4938-80b3-f31667fc4691",
   "metadata": {},
   "outputs": [],
   "source": [
    "stopFlightMotifs = g.find(\"(v1)-[]->(v2);(v2)-[]->(v3)\")"
   ]
  },
  {
   "cell_type": "code",
   "execution_count": null,
   "id": "56918b8d-2d6d-4de9-84a5-7b795dc6b6d5",
   "metadata": {},
   "outputs": [],
   "source": [
    "# Filter the origin airport 'Turin Airport' id"
   ]
  },
  {
   "cell_type": "code",
   "execution_count": 167,
   "id": "0ceb7984-4c00-441c-b458-f0354d60a255",
   "metadata": {},
   "outputs": [],
   "source": [
    "stopFlightFromTurin = stopFlightMotifs.filter(\"v1.id = 1526\")"
   ]
  },
  {
   "cell_type": "code",
   "execution_count": 168,
   "id": "d354e6dd-e5ff-401c-9852-f7c4356d8fbd",
   "metadata": {},
   "outputs": [
    {
     "name": "stderr",
     "output_type": "stream",
     "text": [
      "                                                                                \r"
     ]
    },
    {
     "data": {
      "text/plain": [
       "590"
      ]
     },
     "execution_count": 168,
     "metadata": {},
     "output_type": "execute_result"
    }
   ],
   "source": [
    "stopFlightFromTurin.select(\"v3\").distinct().count()"
   ]
  },
  {
   "cell_type": "markdown",
   "id": "35a0d4fa-f5b0-41b3-ba58-1359e471f866",
   "metadata": {},
   "source": [
    "-------------------------------------------------------------------------------------------"
   ]
  },
  {
   "cell_type": "code",
   "execution_count": null,
   "id": "a1fb3e03-4667-4baa-8bd6-a86ca7656f5d",
   "metadata": {},
   "outputs": [],
   "source": [
    "# Find the number of airports that from there we can reach \"Los Angeles International Airport\" using less hop\n",
    "# than to reach the city of \"Torino\""
   ]
  },
  {
   "cell_type": "code",
   "execution_count": null,
   "id": "3a6a340d-886d-4b83-b61b-42472f7e5b65",
   "metadata": {},
   "outputs": [],
   "source": [
    "# Find the id of \"Los Angeles International Airport\""
   ]
  },
  {
   "cell_type": "code",
   "execution_count": 21,
   "id": "130a42f9-47d4-4faf-b2ef-4395a15fd77f",
   "metadata": {},
   "outputs": [],
   "source": [
    "idLA = outgoing_incoming_final.filter(\"name = 'Los Angeles International Airport'\")"
   ]
  },
  {
   "cell_type": "code",
   "execution_count": 9,
   "id": "a426f1c3-afba-404f-b4e3-7a0723c17f2f",
   "metadata": {},
   "outputs": [],
   "source": [
    "idLA.show(1)"
   ]
  },
  {
   "cell_type": "code",
   "execution_count": null,
   "id": "d3bbd60f-9554-440d-98b4-6a8411c07ff9",
   "metadata": {},
   "outputs": [],
   "source": [
    "# Calculate shortestPaths to \"Los Angeles International Airport\""
   ]
  },
  {
   "cell_type": "code",
   "execution_count": 24,
   "id": "f73f5925-2a20-42a6-af67-b39dda9a24b1",
   "metadata": {},
   "outputs": [],
   "source": [
    "toLA = g.shortestPaths(landmarks=[\"3484\"])"
   ]
  },
  {
   "cell_type": "code",
   "execution_count": null,
   "id": "945e1dca-b9c5-422b-b688-eceaaedad4b2",
   "metadata": {},
   "outputs": [],
   "source": [
    "# Calculate shortestPaths to \"Turin Airport\""
   ]
  },
  {
   "cell_type": "code",
   "execution_count": 36,
   "id": "52a93171-bda2-4a11-a966-1b3c76a2f788",
   "metadata": {},
   "outputs": [
    {
     "name": "stderr",
     "output_type": "stream",
     "text": [
      "                                                                                \r"
     ]
    }
   ],
   "source": [
    "toTurin = g.shortestPaths(landmarks=[\"1526\"])"
   ]
  },
  {
   "cell_type": "code",
   "execution_count": null,
   "id": "0d38c32a-7200-4dd9-a049-b2ae6219dbc3",
   "metadata": {},
   "outputs": [],
   "source": [
    "# Join two previous dataframes"
   ]
  },
  {
   "cell_type": "code",
   "execution_count": 38,
   "id": "5642474d-636a-4d3a-b5ab-e390c7f4ca39",
   "metadata": {},
   "outputs": [],
   "source": [
    "LA_TO = toLA.join(toTurin, toLA.id == toTurin.id).select(toLA[\"id\"], toLA[\"name\"].alias(\"toLA_name\"), \n",
    "        toLA[\"distances\"].alias(\"toLA_distance\"), toTurin[\"name\"].alias(\"toTurin_name\"), toTurin[\"distances\"].alias(\"toTurin_distances\"))"
   ]
  },
  {
   "cell_type": "code",
   "execution_count": 63,
   "id": "b84ecf37-f6c5-4b6c-865c-e45409749ec0",
   "metadata": {},
   "outputs": [],
   "source": [
    "LA_TO = LA_TO.withColumn(\"toLA_distance_numeric\", col(\"toLA_distance\").getItem(\"3484\")).withColumn(\n",
    "    \"toTurin_distance_numeric\", col(\"toTurin_distances\").getItem(\"1526\"))"
   ]
  },
  {
   "cell_type": "code",
   "execution_count": null,
   "id": "9e4885af-24ce-4e4d-907c-af23713ea9c7",
   "metadata": {},
   "outputs": [],
   "source": [
    "# Filter those airports with less hops than Torino"
   ]
  },
  {
   "cell_type": "code",
   "execution_count": 64,
   "id": "5903c897-96a6-4077-ba40-41a5ff00a0ad",
   "metadata": {},
   "outputs": [],
   "source": [
    "LA_TO_filtered = LA_TO.filter(\"toLA_distance_numeric < toTurin_distance_numeric\")"
   ]
  },
  {
   "cell_type": "code",
   "execution_count": 65,
   "id": "264c33fe-844e-4a55-8872-96e9941e1e11",
   "metadata": {},
   "outputs": [
    {
     "name": "stderr",
     "output_type": "stream",
     "text": [
      "                                                                                \r"
     ]
    },
    {
     "data": {
      "text/plain": [
       "1831"
      ]
     },
     "execution_count": 65,
     "metadata": {},
     "output_type": "execute_result"
    }
   ],
   "source": [
    "LA_TO_filtered.count()"
   ]
  },
  {
   "cell_type": "markdown",
   "id": "8251b1b5-d880-404f-9842-ec3fc9ef41fc",
   "metadata": {},
   "source": [
    "-------------------------------------------------------------------------------------------"
   ]
  },
  {
   "cell_type": "code",
   "execution_count": null,
   "id": "e45015ef-24df-4681-9c85-49a7ba294bfc",
   "metadata": {},
   "outputs": [],
   "source": [
    "# Find the number of airports that from there we can reach the city of Torino using less hops than to reach\n",
    "# \"Los Angeles International Airport\""
   ]
  },
  {
   "cell_type": "code",
   "execution_count": 66,
   "id": "afc49e77-40fb-41cb-bd0b-1ab5e12932ca",
   "metadata": {},
   "outputs": [],
   "source": [
    "TO_LA_filtered = LA_TO.filter(\"toLA_distance_numeric > toTurin_distance_numeric\")"
   ]
  },
  {
   "cell_type": "code",
   "execution_count": 67,
   "id": "e1d67856-a2d3-4fef-9147-19c845953947",
   "metadata": {},
   "outputs": [
    {
     "name": "stderr",
     "output_type": "stream",
     "text": [
      "                                                                                \r"
     ]
    },
    {
     "data": {
      "text/plain": [
       "94"
      ]
     },
     "execution_count": 67,
     "metadata": {},
     "output_type": "execute_result"
    }
   ],
   "source": [
    "TO_LA_filtered.count()"
   ]
  },
  {
   "cell_type": "markdown",
   "id": "9afadc3c-dfe8-44ef-b7de-26a66164715a",
   "metadata": {},
   "source": [
    "-------------------------------------------------------------------------------------------"
   ]
  },
  {
   "cell_type": "code",
   "execution_count": null,
   "id": "389ceba4-792b-4fad-a791-8f011327fd2e",
   "metadata": {},
   "outputs": [],
   "source": [
    "# Find the number of airports that from there we can reach with the same number of hops Torino \n",
    "# and \"Los Angeles International Airport\""
   ]
  },
  {
   "cell_type": "code",
   "execution_count": 68,
   "id": "1e95ee79-98e5-41e1-a0bd-9bbe98c2ef9d",
   "metadata": {},
   "outputs": [],
   "source": [
    "TOLA_equal_filtered = LA_TO.filter(\"toLA_distance_numeric == toTurin_distance_numeric\")"
   ]
  },
  {
   "cell_type": "code",
   "execution_count": 69,
   "id": "cafc3329-1565-43bf-bd47-8a0002fdccd6",
   "metadata": {},
   "outputs": [
    {
     "name": "stderr",
     "output_type": "stream",
     "text": [
      "                                                                                \r"
     ]
    },
    {
     "data": {
      "text/plain": [
       "1244"
      ]
     },
     "execution_count": 69,
     "metadata": {},
     "output_type": "execute_result"
    }
   ],
   "source": [
    "TOLA_equal_filtered.count()"
   ]
  },
  {
   "cell_type": "markdown",
   "id": "a7522f8f-71d9-4413-b32c-cef38a2f9d35",
   "metadata": {},
   "source": [
    "-------------------------------------------------------------------------------------------"
   ]
  },
  {
   "cell_type": "code",
   "execution_count": null,
   "id": "75db45c9-d5e2-4174-9a79-7e641cae5bc3",
   "metadata": {},
   "outputs": [],
   "source": [
    "# Find the number of connected components of at least two airports are there in the graph\n",
    "# and the size of those connected components."
   ]
  },
  {
   "cell_type": "code",
   "execution_count": 28,
   "id": "b9605589-58e1-4882-a5f6-461134f249fc",
   "metadata": {},
   "outputs": [
    {
     "name": "stderr",
     "output_type": "stream",
     "text": [
      "23/12/26 09:57:03 WARN spark.SparkContext: Spark is not running in local mode, therefore the checkpoint directory must not be on the local filesystem. Directory 'tmp_ckpts' appears to be on the local filesystem.\n"
     ]
    }
   ],
   "source": [
    "sc.setCheckpointDir(\"tmp_ckpts\")"
   ]
  },
  {
   "cell_type": "code",
   "execution_count": 30,
   "id": "ae5bf1bc-710a-42c0-a785-58321707255c",
   "metadata": {},
   "outputs": [],
   "source": [
    "gClean = g.dropIsolatedVertices()\n",
    "connComp = gClean.connectedComponents()\n",
    "connComp.createOrReplaceTempView(\"connComp\")\n",
    "connCompClean = spark.sql('''SELECT component, count(*) FROM connComp GROUP BY component Having count(*) >= 2''')"
   ]
  },
  {
   "cell_type": "code",
   "execution_count": 34,
   "id": "49ff7db7-d7b0-4eef-a670-6ea10c734bca",
   "metadata": {},
   "outputs": [
    {
     "data": {
      "text/plain": [
       "7"
      ]
     },
     "execution_count": 34,
     "metadata": {},
     "output_type": "execute_result"
    }
   ],
   "source": [
    "connCompClean.distinct().count()"
   ]
  },
  {
   "cell_type": "code",
   "execution_count": 41,
   "id": "3d61aa40-e566-4846-b9bd-7530c886fa04",
   "metadata": {},
   "outputs": [
    {
     "name": "stderr",
     "output_type": "stream",
     "text": [
      "                                                                                \r"
     ]
    },
    {
     "name": "stdout",
     "output_type": "stream",
     "text": [
      "+-------------+--------+\n",
      "|    component|count(1)|\n",
      "+-------------+--------+\n",
      "|            0|    3188|\n",
      "|            9|       4|\n",
      "| 721554505735|       2|\n",
      "| 266287972363|       4|\n",
      "| 300647710722|      10|\n",
      "| 352187318278|       4|\n",
      "|1460288880648|       2|\n",
      "+-------------+--------+\n",
      "\n"
     ]
    }
   ],
   "source": [
    "connCompClean.show()"
   ]
  },
  {
   "cell_type": "markdown",
   "id": "25be2628-cdc6-47d1-b310-afbf92c93d7d",
   "metadata": {},
   "source": [
    "-------------------------------------------------------------------------------------------"
   ]
  },
  {
   "cell_type": "code",
   "execution_count": null,
   "id": "26ad53f2-6e60-4d41-8471-730f44af8f77",
   "metadata": {},
   "outputs": [],
   "source": [
    "# By considering only the subgraph of the flights that are performed by two different airlines (identified by the\n",
    "# icao), each involving at least 5 citie, I am going to select two airlines to show their graphs."
   ]
  },
  {
   "cell_type": "code",
   "execution_count": null,
   "id": "01ebdf77-9713-475c-a88e-24cb8f9be697",
   "metadata": {},
   "outputs": [],
   "source": [
    "# Select two Airlines with previous characteristics\n",
    "# XLA (Excel Airways), GLG (Aerolineas Galapagos)"
   ]
  },
  {
   "cell_type": "code",
   "execution_count": null,
   "id": "aa522fa9-04dd-4f0c-8ead-40b5e2334b99",
   "metadata": {},
   "outputs": [],
   "source": [
    "test_city = icao_joined.join(airportsDF, icao_joined.src == airportsDF.id).select(icao_joined['icao'], airportsDF['city'])"
   ]
  },
  {
   "cell_type": "code",
   "execution_count": null,
   "id": "700063f7-996d-4ec5-bdd4-12e2e8ea0dd8",
   "metadata": {},
   "outputs": [],
   "source": [
    "test_city.createOrReplaceTempView(\"test_city\")"
   ]
  },
  {
   "cell_type": "code",
   "execution_count": null,
   "id": "9634fbe1-9dae-4067-a3f3-9f18688a4e4b",
   "metadata": {},
   "outputs": [],
   "source": [
    "select_city = spark.sql('''\n",
    "                            SELECT icao, COUNT(city)\n",
    "                            FROM test_city\n",
    "                            GROUP BY icao\n",
    "                            HAVING COUNT(city) >= 5''')"
   ]
  },
  {
   "cell_type": "code",
   "execution_count": null,
   "id": "93a0708a-d81f-46e7-acce-14880e56599a",
   "metadata": {},
   "outputs": [],
   "source": [
    "# Create a new dataframe (graphframe) with desired columns"
   ]
  },
  {
   "cell_type": "code",
   "execution_count": 16,
   "id": "0492c7a5-79d4-444c-a489-8bc7670ad326",
   "metadata": {},
   "outputs": [],
   "source": [
    "icao_joined = flightsClean.join(airlinesDF, flightsClean.airline_id == airlinesDF.airline_id).select(\n",
    "            flightsClean[\"airport_source_id\"].alias(\"src\"), flightsClean[\"airport_destination_id\"].alias(\"dst\"),\n",
    "            airlinesDF[\"airline_id\"], airlinesDF[\"icao\"].alias(\"icao\"), airlinesDF[\"name\"].alias(\"airline_name\"))"
   ]
  },
  {
   "cell_type": "code",
   "execution_count": null,
   "id": "927f9f55-ceb6-4998-ab07-344d22dfa9cf",
   "metadata": {},
   "outputs": [],
   "source": [
    "# Create the subgraph of selected airlines"
   ]
  },
  {
   "cell_type": "code",
   "execution_count": 17,
   "id": "27f50c07-4ef9-4efc-9533-56986959e488",
   "metadata": {},
   "outputs": [],
   "source": [
    "icao_joined.createOrReplaceTempView(\"icao_joined\")\n",
    "e_icao = spark.sql('''SELECT src, dst, icao, airline_name FROM icao_joined WHERE icao = \"XLA\" OR icao = \"GLG\"''')\n",
    "v_cities = airportsDF.select(\"id\", \"city\")\n",
    "g_icao = GraphFrame(v_cities, e_icao)\n",
    "g_final = g_icao.dropIsolatedVertices()"
   ]
  },
  {
   "cell_type": "code",
   "execution_count": null,
   "id": "b36efa83-2d18-43af-9d62-1dc55ea21f63",
   "metadata": {},
   "outputs": [],
   "source": [
    "# Plot the subgraph of these flights"
   ]
  },
  {
   "cell_type": "code",
   "execution_count": 64,
   "id": "54e36280-1a2e-431e-b8cc-f9ade84b87f2",
   "metadata": {},
   "outputs": [],
   "source": [
    "from graphviz import Digraph\n",
    "def vizGraph(edge_list,node_list):\n",
    "    Gplot=Digraph()\n",
    "    edges=edge_list.collect()\n",
    "    nodes=node_list.collect()\n",
    "    for row in edges:\n",
    "        Gplot.edge(str(row['src']),str(row['dst']),label=str(row['icao']))\n",
    "    for row in nodes:\n",
    "        Gplot.node(str(row['id']),label=str(row['city']))\n",
    "    return Gplot"
   ]
  },
  {
   "cell_type": "code",
   "execution_count": 1,
   "id": "fbabd4d3-8b59-4ab6-af3d-6edac1d0fa4c",
   "metadata": {},
   "outputs": [],
   "source": [
    "Gplot=vizGraph(g_final.edges, g_final.vertices)\n",
    "Gplot\n",
    "# the picture of final graph will be added at the end of the report."
   ]
  },
  {
   "cell_type": "markdown",
   "id": "57e8dc4f-0ff0-4b2d-8f7c-34681e4c5c7c",
   "metadata": {},
   "source": [
    "-------------------------------------------------------------------------------------------"
   ]
  },
  {
   "cell_type": "code",
   "execution_count": null,
   "id": "41ada8ad-0793-416b-aa12-faae35e160f9",
   "metadata": {},
   "outputs": [],
   "source": [
    "'''Find the destination airport at minimum distance from \"Tancredo Neves International Airport\"\n",
    "that we can reach by taking exactly 2 flights.I am going to return the destination airport and its distance\n",
    "from \"Tancredo Neves International Airport\" by considering that we cannot come back to the \n",
    "Tancredo Neves International Airport'''"
   ]
  },
  {
   "cell_type": "code",
   "execution_count": null,
   "id": "b93b5b5e-43ea-48d8-9780-d984b9ed6780",
   "metadata": {},
   "outputs": [],
   "source": [
    "# Find the id of \"Tancredo Neves International Airport\""
   ]
  },
  {
   "cell_type": "code",
   "execution_count": 76,
   "id": "15fc640f-0ce4-4696-92ea-3b6e17882660",
   "metadata": {},
   "outputs": [],
   "source": [
    "idTN = outgoing_incoming_final.filter(\"name = 'Tancredo Neves International Airport'\")"
   ]
  },
  {
   "cell_type": "code",
   "execution_count": 2,
   "id": "51238702-ba9f-4baf-b077-881fca9b5764",
   "metadata": {},
   "outputs": [],
   "source": [
    "idTN.show(1)"
   ]
  },
  {
   "cell_type": "code",
   "execution_count": null,
   "id": "6d7a712b-87bb-4d42-ad50-96e5f884b896",
   "metadata": {},
   "outputs": [],
   "source": [
    "# Create the motif that we cannot comeback"
   ]
  },
  {
   "cell_type": "code",
   "execution_count": 69,
   "id": "30089f46-beb5-4590-9a7b-0ea5aa760cf1",
   "metadata": {},
   "outputs": [],
   "source": [
    "motifTN = g.find(\"(a)-[]->(b);(b)-[]->(c); !(c)-[]->(a);!(b)-[]->(a)\")"
   ]
  },
  {
   "cell_type": "code",
   "execution_count": 70,
   "id": "b1296702-8eba-4030-9adb-28a3f8c18f4c",
   "metadata": {},
   "outputs": [],
   "source": [
    "fromTN = motifTN.filter(\"a.id = 2537\")"
   ]
  },
  {
   "cell_type": "code",
   "execution_count": 163,
   "id": "783191af-00d6-49c4-bdbd-0e4b94903775",
   "metadata": {},
   "outputs": [
    {
     "name": "stderr",
     "output_type": "stream",
     "text": [
      "                                                                                ]]\r"
     ]
    },
    {
     "data": {
      "text/plain": [
       "39"
      ]
     },
     "execution_count": 163,
     "metadata": {},
     "output_type": "execute_result"
    },
    {
     "name": "stderr",
     "output_type": "stream",
     "text": [
      "                                                                                \r"
     ]
    }
   ],
   "source": [
    "fromTN.count()"
   ]
  },
  {
   "cell_type": "code",
   "execution_count": 71,
   "id": "695019c2-6c35-4fde-a6e5-d512c4a68108",
   "metadata": {},
   "outputs": [],
   "source": [
    "destinationList = fromTN.select(\"c.id\")"
   ]
  },
  {
   "cell_type": "code",
   "execution_count": 25,
   "id": "3dd056da-d246-4ab2-b593-48740c8c1b23",
   "metadata": {},
   "outputs": [],
   "source": [
    "lat_lon_TN = airportsDF.filter(\"name = 'Tancredo Neves International Airport'\").show(5)"
   ]
  },
  {
   "cell_type": "code",
   "execution_count": 78,
   "id": "758dfd3f-de43-4484-80b5-ce70f4291c5e",
   "metadata": {},
   "outputs": [],
   "source": [
    "lat_lon = destinationList.join(airportsDF, destinationList.id == airportsDF.id).select(\n",
    "                    destinationList['id'].alias('id'), airportsDF['name'], airportsDF['latitude'], airportsDF['longitude'])"
   ]
  },
  {
   "cell_type": "code",
   "execution_count": null,
   "id": "802083c8-0156-4803-88b8-1e9da098d6d8",
   "metadata": {},
   "outputs": [],
   "source": [
    "# Define a function (haversine) to calculate the distance between airports"
   ]
  },
  {
   "cell_type": "code",
   "execution_count": 116,
   "id": "be47155b-4fc0-4fba-a137-922f8e458144",
   "metadata": {},
   "outputs": [],
   "source": [
    "import math\n",
    "def haversine(lat1, lon1, lat, lon):\n",
    "    R = 6371.0\n",
    "    lat1, lon1, lat, lon = map(math.radians, [lat1, lon1, lat, lon])\n",
    "    dlat = lat - lat1\n",
    "    dlon = lon - lon1\n",
    "    hav = math.sin(dlat / 2) ** 2 + math.cos(lat1) * math.cos(lat) * math.sin(dlon / 2) ** 2\n",
    "    distance = 2 * R * math.asin(math.sqrt(hav))\n",
    "    return distance"
   ]
  },
  {
   "cell_type": "code",
   "execution_count": null,
   "id": "6697dd38-9ad1-468d-9115-85a2ea6edd86",
   "metadata": {},
   "outputs": [],
   "source": [
    "# Register the function"
   ]
  },
  {
   "cell_type": "code",
   "execution_count": 105,
   "id": "b125620c-012a-4f03-8e58-ddb7178d990f",
   "metadata": {},
   "outputs": [
    {
     "name": "stderr",
     "output_type": "stream",
     "text": [
      "24/01/09 17:57:13 WARN analysis.SimpleFunctionRegistry: The function hav replaced a previously registered function.\n"
     ]
    },
    {
     "data": {
      "text/plain": [
       "<function __main__.haversine(lat1, lon1, lat, lon)>"
      ]
     },
     "execution_count": 105,
     "metadata": {},
     "output_type": "execute_result"
    }
   ],
   "source": [
    "spark.udf.register('hav', haversine)"
   ]
  },
  {
   "cell_type": "code",
   "execution_count": 106,
   "id": "fd9cc2fc-a0d4-4869-bef6-014fd8625871",
   "metadata": {},
   "outputs": [],
   "source": [
    "dinstanceAirportsDF = lat_lon.selectExpr(\"id\", \"name\", \"hav(-19.62444305419922, -43.97194290161133, latitude, longitude) as distance\").sort(\"distance\")"
   ]
  },
  {
   "cell_type": "code",
   "execution_count": 118,
   "id": "67730176-2127-4922-b0f6-a89efc104642",
   "metadata": {},
   "outputs": [
    {
     "name": "stderr",
     "output_type": "stream",
     "text": [
      "[Stage 596:====================================================>(198 + 2) / 200]"
     ]
    },
    {
     "name": "stdout",
     "output_type": "stream",
     "text": [
      "+----+----------------------------------+------------------+\n",
      "|id  |name                              |distance          |\n",
      "+----+----------------------------------+------------------+\n",
      "|2555|Hercílio Luz International Airport|1008.7177113996354|\n",
      "+----+----------------------------------+------------------+\n",
      "only showing top 1 row\n",
      "\n"
     ]
    },
    {
     "name": "stderr",
     "output_type": "stream",
     "text": [
      "                                                                                \r"
     ]
    }
   ],
   "source": [
    "dinstanceAirportsDF.show(1, truncate = False)"
   ]
  },
  {
   "cell_type": "code",
   "execution_count": null,
   "id": "fd52e954-af76-4b29-9fb3-ac27bd0cb668",
   "metadata": {},
   "outputs": [],
   "source": [
    "'''There are 39 airports  that can be reach by taking exactly two flights from \n",
    "\"Tancredo Neves International Airport\" that there is no return flight from those destination. \n",
    "The minimum distance from this airport with these conditions is 1008.7177113996354 which the destination \n",
    "airport is \"Hercílio Luz International Airport\".'''"
   ]
  },
  {
   "cell_type": "markdown",
   "id": "e3657ab3-3828-47f1-aca8-06e39165f8f4",
   "metadata": {},
   "source": [
    "-------------------------------------------------------------------------------------------"
   ]
  },
  {
   "cell_type": "code",
   "execution_count": null,
   "id": "21b74f3a-2c08-4ed1-8270-95d6e8fc211c",
   "metadata": {},
   "outputs": [],
   "source": [
    "# Compute the total flown distance in kilometers, considering the distance from \n",
    "# \"Tancredo Neves International Airport\" to the first airport summed to the distance from the first airport to\n",
    "# second one (total flown distance)"
   ]
  },
  {
   "cell_type": "code",
   "execution_count": 94,
   "id": "219ea462-8f4a-4824-8c4a-1ce601f4356a",
   "metadata": {},
   "outputs": [],
   "source": [
    "bothAirportsList = fromTN.select(\"b.id\", \"c.id\").filter(\"c.id = 2555\")"
   ]
  },
  {
   "cell_type": "code",
   "execution_count": 26,
   "id": "dddada42-5a95-4a90-af13-70e3e416a5d4",
   "metadata": {},
   "outputs": [],
   "source": [
    "bothAirportsList.show()"
   ]
  },
  {
   "cell_type": "code",
   "execution_count": 98,
   "id": "2e992bcd-3c30-4363-bcaa-6ce050fb4c51",
   "metadata": {},
   "outputs": [],
   "source": [
    "airportB_List = fromTN.select(\"b.id\")"
   ]
  },
  {
   "cell_type": "code",
   "execution_count": 101,
   "id": "2c23457e-4f9a-45ed-97b7-830e4ae518fa",
   "metadata": {},
   "outputs": [],
   "source": [
    "lat_lon_B = airportB_List.join(airportsDF, airportB_List.id == airportsDF.id).select(\n",
    "                    airportB_List['id'].alias('id'), airportsDF['name'], airportsDF['latitude'], airportsDF['longitude'])"
   ]
  },
  {
   "cell_type": "code",
   "execution_count": 27,
   "id": "ed7f34f7-8f5c-4442-941e-d4b78d0e0ead",
   "metadata": {},
   "outputs": [],
   "source": [
    "lat_lon_B.filter(\"id = 2442\").show(1, truncate=False)"
   ]
  },
  {
   "cell_type": "code",
   "execution_count": 121,
   "id": "a7169352-e89b-40c8-886c-a55ffa3c61ac",
   "metadata": {},
   "outputs": [],
   "source": [
    "airport_B_C = lat_lon.selectExpr(\"id\", \"name\", \"hav(-34.5592, -58.4156, latitude, longitude) as distance\").filter(\"id = 2555\")"
   ]
  },
  {
   "cell_type": "code",
   "execution_count": 122,
   "id": "a41032a1-0b23-4d66-973d-2a5673d0d467",
   "metadata": {},
   "outputs": [
    {
     "name": "stderr",
     "output_type": "stream",
     "text": [
      "[Stage 686:=========================================>            (58 + 17) / 75]"
     ]
    },
    {
     "name": "stdout",
     "output_type": "stream",
     "text": [
      "+----+--------------------+------------------+\n",
      "|  id|                name|          distance|\n",
      "+----+--------------------+------------------+\n",
      "|2555|Hercílio Luz Inte...|1210.6138281258875|\n",
      "+----+--------------------+------------------+\n",
      "\n"
     ]
    },
    {
     "name": "stderr",
     "output_type": "stream",
     "text": [
      "                                                                                \r"
     ]
    }
   ],
   "source": [
    "airport_B_C.show(truncate=False)"
   ]
  },
  {
   "cell_type": "code",
   "execution_count": 119,
   "id": "48240bb9-bf5a-4418-ae61-b9af2a558ffb",
   "metadata": {},
   "outputs": [],
   "source": [
    "airport_A_B = lat_lon_B.selectExpr(\"id\", \"name\", \"hav(-19.62444305419922, -43.97194290161133, latitude, longitude) as distance\")"
   ]
  },
  {
   "cell_type": "code",
   "execution_count": 120,
   "id": "91bb5db3-930b-4134-8fd8-f7ae55006fe7",
   "metadata": {},
   "outputs": [
    {
     "name": "stderr",
     "output_type": "stream",
     "text": [
      "[Stage 632:=================================================>       (7 + 1) / 8]"
     ]
    },
    {
     "name": "stdout",
     "output_type": "stream",
     "text": [
      "+----+---------------------+------------------+\n",
      "|id  |name                 |distance          |\n",
      "+----+---------------------+------------------+\n",
      "|2442|Jorge Newbery Airpark|2186.1514575333313|\n",
      "+----+---------------------+------------------+\n",
      "only showing top 1 row\n",
      "\n"
     ]
    },
    {
     "name": "stderr",
     "output_type": "stream",
     "text": [
      "                                                                                \r"
     ]
    }
   ],
   "source": [
    "airport_A_B.show(1, truncate=False)"
   ]
  },
  {
   "cell_type": "code",
   "execution_count": null,
   "id": "6a39397d-cc33-42c2-bff3-bcc6260623f5",
   "metadata": {},
   "outputs": [],
   "source": [
    "'''The distance between \"Tancredo Neves International Airport\" and \"Jorge Newbery Airpark\" is 2186.1514575333313 \n",
    "and the distance between \"Jorge Newbery Airpark\" and \"Hercílio Luz International Airport\" is 1210.6138281258875,\n",
    "so the sum of distances is 3396.76529.'''"
   ]
  }
 ],
 "metadata": {
  "kernelspec": {
   "display_name": "GraphFrames (Yarn)",
   "language": "python",
   "name": "graphframe_yarn"
  },
  "language_info": {
   "codemirror_mode": {
    "name": "ipython",
    "version": 3
   },
   "file_extension": ".py",
   "mimetype": "text/x-python",
   "name": "python",
   "nbconvert_exporter": "python",
   "pygments_lexer": "ipython3",
   "version": "3.7.12"
  }
 },
 "nbformat": 4,
 "nbformat_minor": 5
}
